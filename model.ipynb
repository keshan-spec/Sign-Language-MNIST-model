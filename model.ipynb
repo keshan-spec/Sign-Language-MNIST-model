{
 "cells": [
  {
   "cell_type": "code",
   "execution_count": null,
   "metadata": {},
   "outputs": [],
   "source": [
    "# IMPORTS\n",
    "import numpy as np\n",
    "import matplotlib.pyplot as plt\n",
    "import tensorflow as tf\n",
    "from tensorflow import keras\n",
    "from tensorflow.keras.models import load_model"
   ]
  },
  {
   "cell_type": "code",
   "execution_count": null,
   "metadata": {},
   "outputs": [],
   "source": [
    "# GLOBAL VARIABLES\n",
    "SIZE = (28,28)\n",
    "CLASSES = dict(zip(range(0,25),list(map(chr, range(97, 123)))))"
   ]
  },
  {
   "cell_type": "code",
   "execution_count": null,
   "metadata": {},
   "outputs": [],
   "source": [
    "def get_data(path):\n",
    "    data = np.genfromtxt(path, delimiter=',', skip_header=1)\n",
    "    labels = data[0:, 0].astype(np.uint8)\n",
    "    data = np.array([np.reshape(i[1:], SIZE) for i in data.astype(np.uint8)])\n",
    "    return data, labels"
   ]
  },
  {
   "cell_type": "code",
   "execution_count": null,
   "metadata": {},
   "outputs": [],
   "source": [
    "# DATA\n",
    "train_images, train_labels = get_data('data/sign_mnist_train.csv') # get train data\n",
    "test_images, test_labels = get_data('data/sign_mnist_test.csv') # get test data"
   ]
  },
  {
   "cell_type": "code",
   "execution_count": null,
   "metadata": {},
   "outputs": [],
   "source": [
    "# DATA PREPROCESSING\n",
    "train_images = train_images / 255.0\n",
    "test_images = test_images / 255.0"
   ]
  },
  {
   "cell_type": "code",
   "execution_count": null,
   "metadata": {},
   "outputs": [],
   "source": [
    "def show_image(mat, label):\n",
    "    plt.xlabel(CLASSES[label], color='black')\n",
    "    plt.imshow(mat, cmap=plt.cm.binary)\n",
    "    plt.show()\n",
    "\n",
    "for i in range(2):\n",
    "    show_image(train_images[i], train_labels[i])"
   ]
  },
  {
   "cell_type": "code",
   "execution_count": null,
   "metadata": {},
   "outputs": [],
   "source": [
    "# prepare the model\n",
    "model_params = [\n",
    "    keras.layers.Flatten(input_shape=SIZE),  # input layer  (1)\n",
    "    keras.layers.Dense(128, activation='relu'),  # hidden layer (2)\n",
    "    keras.layers.Dense(128, activation='relu'),  # hidden layer (3)\n",
    "    keras.layers.Dense(26, activation='softmax') # output layer (4)\n",
    "]\n",
    "model = keras.Sequential(model_params)\n",
    "model.summary()  # let's have a look at our model so far\n",
    "# compile the model with \n",
    "model.compile(optimizer='adam', # optimization fn\n",
    "              loss='sparse_categorical_crossentropy', # loss fn\n",
    "              metrics=['accuracy'])"
   ]
  },
  {
   "cell_type": "code",
   "execution_count": null,
   "metadata": {},
   "outputs": [],
   "source": [
    "# train the model with the train data\n",
    "model.fit(train_images, train_labels, epochs=20)\n",
    "# Evaluate the model\n",
    "loss, accuracy = model.evaluate(test_images,  test_labels, verbose=0)\n",
    "format_ = lambda num: round(num*100, 3) # formats the number\n",
    "print(f\"Accuracy : {format_(accuracy)}%\\nLoss : {format_(loss)}%\")"
   ]
  },
  {
   "cell_type": "code",
   "execution_count": null,
   "metadata": {},
   "outputs": [],
   "source": [
    "if not os.path.exists(\"models\"): os.mkdir(\"models\")\n",
    "model.save(\"models/model.h5\")"
   ]
  },
  {
   "cell_type": "code",
   "execution_count": null,
   "metadata": {},
   "outputs": [],
   "source": [
    "'''\n",
    "returns an array of predictions\n",
    "shape -> (prediction data len, no of classes)\n",
    "each index of the inner array pointing to the index of the CLASS variable\n",
    "'''\n",
    "predictions = model.predict(test_images) # make prediction"
   ]
  },
  {
   "cell_type": "code",
   "execution_count": null,
   "metadata": {},
   "outputs": [],
   "source": [
    "# check the accuracy of the model\n",
    "from termcolor import colored\n",
    "def predict(model, batch=10, verbose=False):\n",
    "    loss = 0\n",
    "    if batch > len(test_images):\n",
    "        print(f\"DATA SIZE ({len(test_images)}) EXCEEDED! \")\n",
    "        return\n",
    "    for i in range(batch):\n",
    "        prediction = model.predict(np.array([test_images[i]]))\n",
    "        predicted_class, actual_class = CLASSES[np.argmax(prediction)], CLASSES[test_labels[i]]\n",
    "        # checks for the classes and sets color's depending on that\n",
    "        color = 'green' if predicted_class == actual_class else 'red'\n",
    "        if color == 'red': loss += 1\n",
    "        if verbose: print(colored(f'[{i}] Predicted : {predicted_class : <2}|  Expected : {actual_class}', color))\n",
    "    perc = round(100/(batch/(batch-loss)), 3)\n",
    "    print(f\"Accuracy {perc}%\\nLoss : {100-perc}%\")"
   ]
  },
  {
   "cell_type": "code",
   "execution_count": null,
   "metadata": {},
   "outputs": [],
   "source": [
    "predict(model)"
   ]
  }
 ],
 "metadata": {
  "kernelspec": {
   "display_name": "Python 3.6.9 64-bit ('Tensor': conda)",
   "language": "python",
   "name": "python36964bittensorcondaeb9d850a03bf48809603d44cf9e58e19"
  },
  "language_info": {
   "codemirror_mode": {
    "name": "ipython",
    "version": 3
   },
   "file_extension": ".py",
   "mimetype": "text/x-python",
   "name": "python",
   "nbconvert_exporter": "python",
   "pygments_lexer": "ipython3",
   "version": "3.6.9-final"
  }
 },
 "nbformat": 4,
 "nbformat_minor": 2
}